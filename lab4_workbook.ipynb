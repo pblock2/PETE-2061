{
 "cells": [
  {
   "cell_type": "markdown",
   "metadata": {
    "colab_type": "text",
    "id": "u1YDPNtbdHDj"
   },
   "source": [
    "# Control Structures and Data Frames\n",
    "\n",
    "## PETE 2061 Lab 4 Workbook \n",
    "\n",
    "## THIS IS DUE BY 11:59 PM ON SUNDAY (Sept 22, 2019)\n",
    "\n",
    "<a id='top'></a>"
   ]
  },
  {
   "cell_type": "markdown",
   "metadata": {},
   "source": [
    "1. Paste the url (or link) to the pete2061 folder in your github account in the \"marked down\" cell below. <br>"
   ]
  },
  {
   "cell_type": "markdown",
   "metadata": {},
   "source": [
    "https://github.com/pblock2/PETE-2061"
   ]
  },
  {
   "cell_type": "markdown",
   "metadata": {},
   "source": [
    "2. It is commonly said that one human year is equivalent to 7 dog years. However, this simple conversion fails to recognize that dogs reach adulthood in approximately two years. As a result, some people believe that it is better to count each of the first two human years as 10.5 dog years, and then count each additional human year as 4 dog\n",
    "years. <br>\n",
    "Write a program that implements the conversion from human years to dog years described in the previous paragraph. Ensure that your program works correctly for conversions of less than two human years and for conversions of two or more human years. Your program should generate a random number between 0 and 10. <br>\n",
    "Hints: <br>\n",
    "a. Remember that you can generate a random number between 0 and 1 using the function numpy.random.random(1)<br>\n",
    "b. You can scale this random number to go from 0 to 10 by multiplying it by 10<br>\n",
    "c. At this point what you have is a random floating-point number that goes from 0 to 10. You need to convert this floating-point number to an integer using the int() function."
   ]
  },
  {
   "cell_type": "code",
   "execution_count": 17,
   "metadata": {},
   "outputs": [
    {
     "name": "stdout",
     "output_type": "stream",
     "text": [
      "Human years equals [0.63133646]\n",
      "Dog years equals [6.62903278]\n"
     ]
    }
   ],
   "source": [
    "import numpy as np\n",
    "\n",
    "\n",
    "age_h = np.random.random(1) *10\n",
    "\n",
    "print(f\"Human years equals\", age_h)\n",
    "\n",
    "\n",
    "if age_h <= 2:\n",
    "    \n",
    "    age_d = age_h * 10.5\n",
    "    \n",
    "    print(f\"Dog years equals\", age_d)\n",
    "    \n",
    "else:\n",
    "    \n",
    "    age_d = 21 + ((age_h - 2) * 4)\n",
    "    \n",
    "    print(f\"Dog years equals\", age_d)"
   ]
  },
  {
   "cell_type": "markdown",
   "metadata": {},
   "source": [
    "3. For Students A through J, generate 10 different random numbers between 0 and 100. Create a dataframe to store the student names in the first column (called \"Name\"), and store the scores in the second column called \"Score\".\n",
    "   Print out the mean, standard deviation and maximum of the scores, as well as the index of the student with this maximum score. "
   ]
  },
  {
   "cell_type": "code",
   "execution_count": 183,
   "metadata": {},
   "outputs": [
    {
     "name": "stdout",
     "output_type": "stream",
     "text": [
      "  Names      Score\n",
      "0     A  30.418186\n",
      "1     B  27.866000\n",
      "2     C  91.252166\n",
      "3     D  72.128363\n",
      "4     E  95.240311\n",
      "5     F  14.401501\n",
      "6     G  29.437535\n",
      "7     H  97.977110\n",
      "8     I  70.917172\n",
      "9     J  78.372826\n",
      "           Score\n",
      "count  10.000000\n",
      "mean   60.801117\n",
      "std    31.936096\n",
      "min    14.401501\n",
      "25%    29.682698\n",
      "50%    71.522767\n",
      "75%    88.032331\n",
      "max    97.977110\n",
      "Top Score index is  Score    7\n",
      "dtype: int64\n"
     ]
    }
   ],
   "source": [
    "import pandas as pd\n",
    "import numpy as np\n",
    "from numpy.random import randn\n",
    "\n",
    "\n",
    "Name = 'A B C D E F G H I J'.split()\n",
    "\n",
    "Data = pd.DataFrame(((100 - 0) * np.random.random((10,2)) + 0),columns='Names Score'.split())\n",
    "Data['Names'] = pd.DataFrame(Name, columns=['Names'])\n",
    "\n",
    "print(Data)\n",
    "\n",
    "print(Data.describe())\n",
    "\n",
    "Data.drop('Names', axis=1, inplace = True)\n",
    "\n",
    "print('Top Score index is ', Data.idxmax(axis = 0))\n"
   ]
  },
  {
   "cell_type": "markdown",
   "metadata": {},
   "source": [
    "4. Write a program that begins by reading a score in percentage (%) from the user. Then your program should compute and display the equivalent letter grade. Ensure that your program generates an appropriate error message if the user enters an invalid score.\n",
    "Use the grading scale on your syllabus. These scores are typed in below."
   ]
  },
  {
   "cell_type": "code",
   "execution_count": 322,
   "metadata": {},
   "outputs": [
    {
     "name": "stdout",
     "output_type": "stream",
     "text": [
      "   Letter Grade  Scores\n",
      "0            A+      97\n",
      "1             A      93\n",
      "2            A-      90\n",
      "3            B+      87\n",
      "4             B      83\n",
      "5            B-      80\n",
      "6            C+      77\n",
      "7             C      73\n",
      "8            C-      70\n",
      "9            D+      67\n",
      "10            D      63\n",
      "11           D-      60\n",
      "Enter number grade: 25\n",
      "Number grade equals:  25\n",
      "Letter grade is F\n"
     ]
    }
   ],
   "source": [
    "import pandas as pd\n",
    "\n",
    "\n",
    "data = {\"Letter Grade\":['A+','A','A-','B+','B','B-','C+','C','C-','D+','D','D-'],\n",
    "       \"Scores\":[97,93,90,87,83,80,77,73,70,67,63,60]}\n",
    "df = pd.DataFrame(data)\n",
    "\n",
    "\n",
    "print(df)\n",
    "\n",
    "\n",
    "num_gradeStr = input(\"Enter number grade: \")\n",
    "num_grade = int(num_gradeStr)\n",
    "\n",
    "\n",
    "print(f\"Number grade equals: \", num_grade)\n",
    "\n",
    "\n",
    "index = 0\n",
    "flag = 0\n",
    "flag2 = 0\n",
    "error = 0\n",
    "\n",
    "\n",
    "\n",
    "for x in df['Scores']:\n",
    "\n",
    "    if x > num_grade and num_grade < 97 and num_grade >= 60:\n",
    "        \n",
    "        if index == 0 and flag == 0:\n",
    "            \n",
    "            index = 0\n",
    "            flag = 1\n",
    "            \n",
    "        else:\n",
    "            \n",
    "            index = index + 1   \n",
    "        \n",
    "    elif num_grade > 100 or num_grade < 0:\n",
    "        \n",
    "        error = 1\n",
    "        \n",
    "        break\n",
    "        \n",
    "    elif num_grade < 60 and num_grade >= 0:\n",
    "        \n",
    "        error = 2\n",
    "        \n",
    "    elif num_grade <= 100 and num_grade >= 97:\n",
    "        \n",
    "        index = 0\n",
    "        flag2 = 1\n",
    "        \n",
    "        break\n",
    "                  \n",
    "if error == 1:\n",
    "    \n",
    "    print('Error: Grade input invalid. Please enter a value between 0 and 100')\n",
    "\n",
    "elif error == 2:\n",
    "    \n",
    "    print('Letter grade is F')\n",
    "    \n",
    "elif flag2 == 1:\n",
    "    \n",
    "    print('Letter grade is ', df.loc[index, 'Letter Grade'])\n",
    "\n",
    "else:\n",
    "    \n",
    "    print('Letter grade is ', df.loc[index + 1, 'Letter Grade'])"
   ]
  },
  {
   "cell_type": "markdown",
   "metadata": {},
   "source": [
    "5. Write a program that generates 10 random integers, and then prints the largest odd number that was entered. If no odd number was entered it should print a message to that effect. <br>\n",
    "Hints: <br>\n",
    "    a. Use pseudo-code. <br>\n",
    "    b. Generate a random number using the code below:<br>\n",
    "    myRandInt = np.random.randint(low=1, high=20, size=10)<br>\n",
    "    c. Initialize an empty list to contain the odd numbers. Name this list oddInt <br>\n",
    "    d. Within your for loop, you can append odd numbers to this empty list using the append function. eg: <br>\n",
    "    oddInt.append(\"The current odd number from the list should be put in here!\")"
   ]
  },
  {
   "cell_type": "code",
   "execution_count": 213,
   "metadata": {},
   "outputs": [
    {
     "name": "stdout",
     "output_type": "stream",
     "text": [
      "[17 15 16 17  7 18  5  1 15 12]\n",
      "17\n"
     ]
    }
   ],
   "source": [
    "import numpy as np\n",
    "\n",
    "\n",
    "myRandInt = np.random.randint(low=1, high=20, size=10) #Creates list of ten random integers from 1 to 20\n",
    "oddInt = [] #Empty list initialized to contain odd numbers\n",
    "\n",
    "\n",
    "for x in myRandInt: #Iterates through every integer generated\n",
    "    \n",
    "    if (x % 2) != 0: #Checks every integer one by one to see if value is odd\n",
    "        \n",
    "        oddInt.append(x) #Adds value to list oddInt if it is odd\n",
    "\n",
    "        \n",
    "print(myRandInt) #Prints myRandInt for verification of proper function        \n",
    "        \n",
    "if len(oddInt) == 0:\n",
    "    \n",
    "    print('No odd numbers generated')\n",
    "    \n",
    "else:\n",
    "    \n",
    "    print(max(oddInt)) #Prints maximum value contained in oddInt after putting all odd numbers in list oddInt"
   ]
  },
  {
   "cell_type": "code",
   "execution_count": null,
   "metadata": {},
   "outputs": [],
   "source": []
  }
 ],
 "metadata": {
  "colab": {
   "collapsed_sections": [
    "sYQs3O-6dHFb",
    "8sIJ4A57dHFk",
    "_73RPOcBdHFn",
    "h9s2tfPcdHFo",
    "zt4YHVYPdHGR"
   ],
   "include_colab_link": true,
   "name": "Copy of intro-python-colab.ipynb",
   "provenance": [],
   "version": "0.3.2"
  },
  "kernelspec": {
   "display_name": "Python 3",
   "language": "python",
   "name": "python3"
  },
  "language_info": {
   "codemirror_mode": {
    "name": "ipython",
    "version": 3
   },
   "file_extension": ".py",
   "mimetype": "text/x-python",
   "name": "python",
   "nbconvert_exporter": "python",
   "pygments_lexer": "ipython3",
   "version": "3.7.3"
  }
 },
 "nbformat": 4,
 "nbformat_minor": 1
}
