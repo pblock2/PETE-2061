{
 "cells": [
  {
   "cell_type": "markdown",
   "metadata": {},
   "source": [
    "\n",
    " # Object Oriented Programming\n",
    "\n",
    "## PETE 2061 Lab 13\n",
    "\n",
    "<a id='top'></a>"
   ]
  },
  {
   "cell_type": "code",
   "execution_count": 4,
   "metadata": {},
   "outputs": [],
   "source": [
    "import numpy as np\n",
    "import matplotlib.pyplot as plt\n",
    "\n",
    "import pandas as pd\n",
    "import sqlite3\n",
    "\n",
    "%matplotlib inline   \n",
    "#In Jupyter notebook, this makes matplotlib.pyplot generate a plot even the first time plot() is called"
   ]
  },
  {
   "cell_type": "code",
   "execution_count": 5,
   "metadata": {},
   "outputs": [],
   "source": [
    "class Well:\n",
    "    def __init__(self, **kwargs):\n",
    "        if 'startDate' in kwargs: self._startDate = kwargs['startDate']\n",
    "        self._q_i = 0        \n",
    "        \n",
    "    def computeRate(self):\n",
    "        self._rate = 0\n",
    "        return self._rate\n",
    "    \n",
    "    def computeCumProd(self):\n",
    "        self._CumProd = 0\n",
    "        return self._CumProd\n",
    "    \n",
    "    def getStartDate(self):\n",
    "        pass\n",
    "    \n",
    "    def setStartDate(self):\n",
    "        pass"
   ]
  },
  {
   "cell_type": "code",
   "execution_count": 6,
   "metadata": {},
   "outputs": [],
   "source": [
    "class ProductionWell(Well):\n",
    "    sign = -1  # this is a class property\n",
    "    def __init__(self, **kwargs):\n",
    "        if'prodStartDate' in kwargs: self._prodStartDate = kwargs['prodStartDate']\n",
    "        if 'startDate' in kwargs: self._startDate = kwargs['startDate']\n",
    "        if 'q_i' in kwargs: self._q_i = kwargs['q_i']\n",
    "        if 'D_i' in kwargs: self._D_i = kwargs['D_i']\n",
    "        \n",
    "    def computeRate(self, t = None):    #this method overrides the version in the \"Well\" super class \n",
    "        if t: self._rate = self._q_i*np.exp(-self._D_i*t)\n",
    "        return self._rate   \n",
    "    \n",
    "    def computeCumProd(self, **kwargs):  #t is redundant. Change to **kwargs\n",
    "        self._CumProd = (self._q_i - self._rate)/self._D_i\n",
    "        return self._CumProd \n",
    "    \n",
    "    def getStartDate(self):\n",
    "        pass\n",
    "    \n",
    "    def setStartDate(self):\n",
    "        pass"
   ]
  },
  {
   "cell_type": "code",
   "execution_count": 7,
   "metadata": {},
   "outputs": [],
   "source": [
    "class InjectionWell(Well):\n",
    "    sign = 1\n",
    "    def __init__(self, **kwargs):\n",
    "        if'injStartDate' in kwargs: self._injStartDate = kwargs['injStartDate']\n",
    "        if 'startDate' in kwargs: self._startDate = kwargs['startDate']\n",
    "        if 'q_i' in kwargs: self._q_i = kwargs['q_i']\n",
    "        \n",
    "    def computeRate(self, **kwargs):\n",
    "        if 'q_i' in kwargs: self._rate = kwargs['q_i']\n",
    "        return self._rate   \n",
    "    \n",
    "    #Cum Prod is computed based on constant rate of water injection\n",
    "    def computeCumProd(self, t = None):\n",
    "        if t: self._CumProd = self._q_i * t\n",
    "        return self._CumProd\n",
    "    \n",
    "    def getStartDate(self):\n",
    "        pass\n",
    "    \n",
    "    def setStartDate(self):\n",
    "        pass"
   ]
  },
  {
   "cell_type": "code",
   "execution_count": 8,
   "metadata": {},
   "outputs": [],
   "source": [
    "class AppraisalWell(Well):\n",
    "    sign = 0\n",
    "    "
   ]
  },
  {
   "cell_type": "code",
   "execution_count": 13,
   "metadata": {},
   "outputs": [
    {
     "name": "stdout",
     "output_type": "stream",
     "text": [
      "30000\n",
      "39496.240407504294\n",
      "27500\n",
      "27500\n",
      "0\n"
     ]
    }
   ],
   "source": [
    "well_1 = Well(startDate = 2000)\n",
    "well_1.computeCumProd()\n",
    "well_2 = Well(startDate = 2000)\n",
    "well_2.computeCumProd()\n",
    "\n",
    "producer_A = ProductionWell(prodStartDate = 2000, q_i = 3000, D_i = 0.01)\n",
    "producer_B = ProductionWell(prodStartDate = 2001, q_i = 4000, D_i = 0.02)\n",
    "\n",
    "injector_A = InjectionWell(injStartDate = 2005, q_i = 2500)\n",
    "injector_B = InjectionWell(injStartDate = 2005, q_i = 2500)\n",
    "\n",
    "producer_A.computeRate(10)\n",
    "producer_A.computeCumProd(t = 10)  #this computes CumProd, and is also an accessor or getter for the CumProd attribute\n",
    "\n",
    "producer_B.computeRate(11)\n",
    "producer_B.computeCumProd(t = 11)\n",
    "\n",
    "injector_B.computeRate(q_i = 1000)\n",
    "injector_B.computeCumProd(t = 11)  \n",
    "\n",
    "injector_A.computeRate(q_i = 1000)\n",
    "injector_A.computeCumProd(t = 11) \n",
    "\n",
    "#It will be a bad idea to accesss and modify the CumProd attribute of a producer directly from other codes.\n",
    "#An accessor or getter needs to be used, in keeping with the tenets of OOP. Specifically, data encapsulation.\n",
    "producer_A._CumProd\n",
    "producer_A._CumProd = 30000  #Other programs can prevent this by using private variables.  DON'T DO THIS!!\n",
    "producer_A._CumProd\n",
    "\n",
    "for well in [producer_A, producer_B, injector_A, injector_B, well_1]:\n",
    "    print(well._CumProd)  #This is polymorphism. The well object could be a ProductionWell, an InjectionWell, etc.\n"
   ]
  },
  {
   "cell_type": "code",
   "execution_count": 16,
   "metadata": {},
   "outputs": [],
   "source": [
    "def main():\n",
    "    well_1 = Well()"
   ]
  }
 ],
 "metadata": {
  "kernelspec": {
   "display_name": "Python 3",
   "language": "python",
   "name": "python3"
  },
  "language_info": {
   "codemirror_mode": {
    "name": "ipython",
    "version": 3
   },
   "file_extension": ".py",
   "mimetype": "text/x-python",
   "name": "python",
   "nbconvert_exporter": "python",
   "pygments_lexer": "ipython3",
   "version": "3.7.3"
  }
 },
 "nbformat": 4,
 "nbformat_minor": 2
}
